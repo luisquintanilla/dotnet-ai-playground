{
 "cells": [
  {
   "cell_type": "markdown",
   "metadata": {},
   "source": [
    "# Movie Search with Azure OpenAI"
   ]
  },
  {
   "cell_type": "markdown",
   "metadata": {},
   "source": [
    "## Install Milvus C# SDK"
   ]
  },
  {
   "cell_type": "code",
   "execution_count": 1,
   "metadata": {
    "dotnet_interactive": {
     "language": "csharp"
    },
    "polyglot_notebook": {
     "kernelName": "csharp"
    }
   },
   "outputs": [
    {
     "data": {
      "text/html": [
       "<div><div></div><div></div><div><strong>Installed Packages</strong><ul><li><span>Azure.AI.OpenAI, 1.0.0-beta.7</span></li><li><span>Milvus.Client, 2.2.2-preview.5</span></li></ul></div></div>"
      ]
     },
     "metadata": {},
     "output_type": "display_data"
    }
   ],
   "source": [
    "#r \"nuget: Milvus.Client, 2.2.2-preview.5\"\n",
    "#r \"nuget: Azure.AI.OpenAI, 1.0.0-beta.7\""
   ]
  },
  {
   "cell_type": "code",
   "execution_count": 2,
   "metadata": {
    "dotnet_interactive": {
     "language": "csharp"
    },
    "polyglot_notebook": {
     "kernelName": "csharp"
    }
   },
   "outputs": [],
   "source": [
    "using Milvus.Client;\n",
    "using Azure.AI.OpenAI;"
   ]
  },
  {
   "cell_type": "markdown",
   "metadata": {},
   "source": [
    "## Initialize Milvus Client"
   ]
  },
  {
   "cell_type": "code",
   "execution_count": 3,
   "metadata": {
    "dotnet_interactive": {
     "language": "csharp"
    },
    "polyglot_notebook": {
     "kernelName": "csharp"
    }
   },
   "outputs": [],
   "source": [
    "var milvusClient = new MilvusClient(\"localhost\", username: \"username\", password: \"password\");"
   ]
  },
  {
   "cell_type": "markdown",
   "metadata": {},
   "source": [
    "## Cleanup (optional)"
   ]
  },
  {
   "cell_type": "code",
   "execution_count": 4,
   "metadata": {
    "dotnet_interactive": {
     "language": "csharp"
    },
    "polyglot_notebook": {
     "kernelName": "csharp"
    }
   },
   "outputs": [],
   "source": [
    "await milvusClient.GetCollection(\"movies\").DropAsync()"
   ]
  },
  {
   "cell_type": "markdown",
   "metadata": {},
   "source": [
    "## List collections"
   ]
  },
  {
   "cell_type": "code",
   "execution_count": 5,
   "metadata": {
    "dotnet_interactive": {
     "language": "csharp"
    },
    "polyglot_notebook": {
     "kernelName": "csharp"
    }
   },
   "outputs": [],
   "source": [
    "var collections = milvusClient.GetCollection(\"movies\");"
   ]
  },
  {
   "cell_type": "code",
   "execution_count": 6,
   "metadata": {
    "dotnet_interactive": {
     "language": "csharp"
    },
    "polyglot_notebook": {
     "kernelName": "csharp"
    }
   },
   "outputs": [
    {
     "data": {
      "text/html": [
       "<details open=\"open\" class=\"dni-treeview\"><summary><span class=\"dni-code-hint\"><code>Milvus.Client.MilvusCollection</code></span></summary><div><table><thead><tr></tr></thead><tbody><tr><td>Name</td><td><div class=\"dni-plaintext\"><pre>movies</pre></div></td></tr></tbody></table></div></details><style>\r\n",
       ".dni-code-hint {\r\n",
       "    font-style: italic;\r\n",
       "    overflow: hidden;\r\n",
       "    white-space: nowrap;\r\n",
       "}\r\n",
       ".dni-treeview {\r\n",
       "    white-space: nowrap;\r\n",
       "}\r\n",
       ".dni-treeview td {\r\n",
       "    vertical-align: top;\r\n",
       "    text-align: start;\r\n",
       "}\r\n",
       "details.dni-treeview {\r\n",
       "    padding-left: 1em;\r\n",
       "}\r\n",
       "table td {\r\n",
       "    text-align: start;\r\n",
       "}\r\n",
       "table tr { \r\n",
       "    vertical-align: top; \r\n",
       "    margin: 0em 0px;\r\n",
       "}\r\n",
       "table tr td pre \r\n",
       "{ \r\n",
       "    vertical-align: top !important; \r\n",
       "    margin: 0em 0px !important;\r\n",
       "} \r\n",
       "table th {\r\n",
       "    text-align: start;\r\n",
       "}\r\n",
       "</style>"
      ]
     },
     "metadata": {},
     "output_type": "display_data"
    }
   ],
   "source": [
    "collections"
   ]
  },
  {
   "cell_type": "markdown",
   "metadata": {},
   "source": [
    "## Create collection"
   ]
  },
  {
   "cell_type": "markdown",
   "metadata": {},
   "source": [
    "### Define schema"
   ]
  },
  {
   "cell_type": "code",
   "execution_count": 7,
   "metadata": {
    "dotnet_interactive": {
     "language": "csharp"
    },
    "polyglot_notebook": {
     "kernelName": "csharp"
    }
   },
   "outputs": [],
   "source": [
    "var schema = new CollectionSchema\n",
    "{\n",
    "    Fields =\n",
    "    {\n",
    "        FieldSchema.Create<long>(\"movie_id\", isPrimaryKey: true),\n",
    "        FieldSchema.CreateVarchar(\"movie_name\", maxLength: 200),\n",
    "        FieldSchema.CreateFloatVector(\"movie_description\", dimension: 1536)\n",
    "    },\n",
    "    Description = \"Test movie search\",\n",
    "    EnableDynamicFields = true\n",
    "};"
   ]
  },
  {
   "cell_type": "markdown",
   "metadata": {},
   "source": [
    "### Create collection"
   ]
  },
  {
   "cell_type": "code",
   "execution_count": 8,
   "metadata": {
    "dotnet_interactive": {
     "language": "csharp"
    },
    "polyglot_notebook": {
     "kernelName": "csharp"
    }
   },
   "outputs": [],
   "source": [
    "var collection = await milvusClient.CreateCollectionAsync(collectionName: \"movies\",schema: schema, shardsNum: 2);"
   ]
  },
  {
   "cell_type": "code",
   "execution_count": 9,
   "metadata": {
    "dotnet_interactive": {
     "language": "csharp"
    },
    "polyglot_notebook": {
     "kernelName": "csharp"
    }
   },
   "outputs": [
    {
     "data": {
      "text/html": [
       "<details open=\"open\" class=\"dni-treeview\"><summary><span class=\"dni-code-hint\"><code>Milvus.Client.MilvusCollectionDescription</code></span></summary><div><table><thead><tr></tr></thead><tbody><tr><td>Aliases</td><td><div class=\"dni-plaintext\"><pre>[  ]</pre></div></td></tr><tr><td>CollectionName</td><td><div class=\"dni-plaintext\"><pre>movies</pre></div></td></tr><tr><td>CollectionId</td><td><div class=\"dni-plaintext\"><pre>444190052365369509</pre></div></td></tr><tr><td>ConsistencyLevel</td><td><span>Session</span></td></tr><tr><td>CreationTimestamp</td><td><div class=\"dni-plaintext\"><pre>1694450629307</pre></div></td></tr><tr><td>Schema</td><td><details class=\"dni-treeview\"><summary><span class=\"dni-code-hint\"><code>Milvus.Client.CollectionSchema</code></span></summary><div><table><thead><tr></tr></thead><tbody><tr><td>Name</td><td><div class=\"dni-plaintext\"><pre>movies</pre></div></td></tr><tr><td>Description</td><td><div class=\"dni-plaintext\"><pre>Test movie search</pre></div></td></tr><tr><td>Fields</td><td><table><thead><tr><th><i>index</i></th><th>value</th></tr></thead><tbody><tr><td>0</td><td><details class=\"dni-treeview\"><summary><span class=\"dni-code-hint\"><code>Milvus.Client.FieldSchema</code></span></summary><div><table><thead><tr></tr></thead><tbody><tr><td>Name</td><td><div class=\"dni-plaintext\"><pre>movie_id</pre></div></td></tr><tr><td>DataType</td><td><span>Int64</span></td></tr><tr><td>IsPrimaryKey</td><td><div class=\"dni-plaintext\"><pre>True</pre></div></td></tr><tr><td>AutoId</td><td><div class=\"dni-plaintext\"><pre>False</pre></div></td></tr><tr><td>IsPartitionKey</td><td><div class=\"dni-plaintext\"><pre>False</pre></div></td></tr><tr><td>Description</td><td><div class=\"dni-plaintext\"><pre></pre></div></td></tr><tr><td>IsDynamic</td><td><div class=\"dni-plaintext\"><pre>False</pre></div></td></tr><tr><td>MaxLength</td><td><div class=\"dni-plaintext\"><pre>&lt;null&gt;</pre></div></td></tr><tr><td>Dimension</td><td><div class=\"dni-plaintext\"><pre>&lt;null&gt;</pre></div></td></tr><tr><td>State</td><td><span>FieldCreated</span></td></tr><tr><td>FieldId</td><td><div class=\"dni-plaintext\"><pre>100</pre></div></td></tr></tbody></table></div></details></td></tr><tr><td>1</td><td><details class=\"dni-treeview\"><summary><span class=\"dni-code-hint\"><code>Milvus.Client.FieldSchema</code></span></summary><div><table><thead><tr></tr></thead><tbody><tr><td>Name</td><td><div class=\"dni-plaintext\"><pre>movie_name</pre></div></td></tr><tr><td>DataType</td><td><span>VarChar</span></td></tr><tr><td>IsPrimaryKey</td><td><div class=\"dni-plaintext\"><pre>False</pre></div></td></tr><tr><td>AutoId</td><td><div class=\"dni-plaintext\"><pre>False</pre></div></td></tr><tr><td>IsPartitionKey</td><td><div class=\"dni-plaintext\"><pre>False</pre></div></td></tr><tr><td>Description</td><td><div class=\"dni-plaintext\"><pre></pre></div></td></tr><tr><td>IsDynamic</td><td><div class=\"dni-plaintext\"><pre>False</pre></div></td></tr><tr><td>MaxLength</td><td><div class=\"dni-plaintext\"><pre>200</pre></div></td></tr><tr><td>Dimension</td><td><div class=\"dni-plaintext\"><pre>&lt;null&gt;</pre></div></td></tr><tr><td>State</td><td><span>FieldCreated</span></td></tr><tr><td>FieldId</td><td><div class=\"dni-plaintext\"><pre>101</pre></div></td></tr></tbody></table></div></details></td></tr><tr><td>2</td><td><details class=\"dni-treeview\"><summary><span class=\"dni-code-hint\"><code>Milvus.Client.FieldSchema</code></span></summary><div><table><thead><tr></tr></thead><tbody><tr><td>Name</td><td><div class=\"dni-plaintext\"><pre>movie_description</pre></div></td></tr><tr><td>DataType</td><td><span>FloatVector</span></td></tr><tr><td>IsPrimaryKey</td><td><div class=\"dni-plaintext\"><pre>False</pre></div></td></tr><tr><td>AutoId</td><td><div class=\"dni-plaintext\"><pre>False</pre></div></td></tr><tr><td>IsPartitionKey</td><td><div class=\"dni-plaintext\"><pre>False</pre></div></td></tr><tr><td>Description</td><td><div class=\"dni-plaintext\"><pre></pre></div></td></tr><tr><td>IsDynamic</td><td><div class=\"dni-plaintext\"><pre>False</pre></div></td></tr><tr><td>MaxLength</td><td><div class=\"dni-plaintext\"><pre>&lt;null&gt;</pre></div></td></tr><tr><td>Dimension</td><td><div class=\"dni-plaintext\"><pre>1536</pre></div></td></tr><tr><td>State</td><td><span>FieldCreated</span></td></tr><tr><td>FieldId</td><td><div class=\"dni-plaintext\"><pre>102</pre></div></td></tr></tbody></table></div></details></td></tr></tbody></table></td></tr><tr><td>EnableDynamicFields</td><td><div class=\"dni-plaintext\"><pre>False</pre></div></td></tr></tbody></table></div></details></td></tr><tr><td>ShardsNum</td><td><div class=\"dni-plaintext\"><pre>2</pre></div></td></tr><tr><td>StartPositions</td><td><i>(empty)</i></td></tr></tbody></table></div></details><style>\r\n",
       ".dni-code-hint {\r\n",
       "    font-style: italic;\r\n",
       "    overflow: hidden;\r\n",
       "    white-space: nowrap;\r\n",
       "}\r\n",
       ".dni-treeview {\r\n",
       "    white-space: nowrap;\r\n",
       "}\r\n",
       ".dni-treeview td {\r\n",
       "    vertical-align: top;\r\n",
       "    text-align: start;\r\n",
       "}\r\n",
       "details.dni-treeview {\r\n",
       "    padding-left: 1em;\r\n",
       "}\r\n",
       "table td {\r\n",
       "    text-align: start;\r\n",
       "}\r\n",
       "table tr { \r\n",
       "    vertical-align: top; \r\n",
       "    margin: 0em 0px;\r\n",
       "}\r\n",
       "table tr td pre \r\n",
       "{ \r\n",
       "    vertical-align: top !important; \r\n",
       "    margin: 0em 0px !important;\r\n",
       "} \r\n",
       "table th {\r\n",
       "    text-align: start;\r\n",
       "}\r\n",
       "</style>"
      ]
     },
     "metadata": {},
     "output_type": "display_data"
    }
   ],
   "source": [
    "await collection.DescribeAsync()"
   ]
  },
  {
   "cell_type": "markdown",
   "metadata": {},
   "source": [
    "## Add data to collection"
   ]
  },
  {
   "cell_type": "markdown",
   "metadata": {},
   "source": [
    "### Configure AOAI Client"
   ]
  },
  {
   "cell_type": "code",
   "execution_count": 10,
   "metadata": {
    "dotnet_interactive": {
     "language": "csharp"
    },
    "polyglot_notebook": {
     "kernelName": "csharp"
    }
   },
   "outputs": [],
   "source": [
    "var AOAI_ENDPOINT = Environment.GetEnvironmentVariable(\"AOAI_ENDPOINT\");\n",
    "var AOAI_KEY = Environment.GetEnvironmentVariable(\"AOAI_KEY\");\n",
    "var AOAI_DEPLOYMENTID = Environment.GetEnvironmentVariable(\"AOAI_DEPLOYMENTID\");"
   ]
  },
  {
   "cell_type": "code",
   "execution_count": 11,
   "metadata": {
    "dotnet_interactive": {
     "language": "csharp"
    },
    "polyglot_notebook": {
     "kernelName": "csharp"
    }
   },
   "outputs": [],
   "source": [
    "var endpoint = new Uri(AOAI_ENDPOINT);\n",
    "var credentials = new Azure.AzureKeyCredential(AOAI_KEY);\n",
    "var openAIClient = new OpenAIClient(endpoint, credentials);"
   ]
  },
  {
   "cell_type": "code",
   "execution_count": 12,
   "metadata": {
    "dotnet_interactive": {
     "language": "csharp"
    },
    "polyglot_notebook": {
     "kernelName": "csharp"
    }
   },
   "outputs": [],
   "source": [
    "record Movie(long Id, string Name, string Description);\n",
    "record MovieEmbedding(long Id, string Name, ReadOnlyMemory<float> DescriptionEmbedding);"
   ]
  },
  {
   "cell_type": "code",
   "execution_count": 13,
   "metadata": {
    "dotnet_interactive": {
     "language": "csharp"
    },
    "polyglot_notebook": {
     "kernelName": "csharp"
    }
   },
   "outputs": [],
   "source": [
    "var movies = new Movie[] {\n",
    "    new Movie(1L, \"The Lion King\", \"The Lion King is a classic Disney animated film that tells the story of a young lion named Simba who embarks on a journey to reclaim his throne as the king of the Pride Lands after the tragic death of his father.\"),\n",
    "    new Movie(2L, \"Inception\", \"Inception is a mind-bending science fiction film directed by Christopher Nolan. It follows the story of Dom Cobb, a skilled thief who specializes in entering people's dreams to steal their secrets. However, he is offered a final job that involves planting an idea into someone's mind.\"),\n",
    "    new Movie(3L, \"Toy Story\", \"Toy Story is a groundbreaking animated film from Pixar. It follows the secret lives of toys when their owner, Andy, is not around. Woody and Buzz Lightyear are the main characters in this heartwarming tale.\"),\n",
    "    new Movie(4L, \"Pulp Fiction\", \"Pulp Fiction is a crime film directed by Quentin Tarantino. It weaves together interconnected stories of mobsters, hitmen, and other colorful characters in a non-linear narrative filled with dark humor and violence.\"),\n",
    "    new Movie(5L, \"Shrek\", \"Shrek is an animated comedy film that follows the adventures of Shrek, an ogre who embarks on a quest to rescue Princess Fiona from a dragon-guarded tower in order to get his swamp back.\"),\n",
    "};"
   ]
  },
  {
   "cell_type": "markdown",
   "metadata": {},
   "source": [
    "### Generate embeddings"
   ]
  },
  {
   "cell_type": "code",
   "execution_count": 14,
   "metadata": {
    "dotnet_interactive": {
     "language": "csharp"
    },
    "polyglot_notebook": {
     "kernelName": "csharp"
    }
   },
   "outputs": [],
   "source": [
    "float[] GenerateEmbedding(string input)\n",
    "{\n",
    "    var embeddingOptions = new EmbeddingsOptions(input);\n",
    "    Embeddings embeddingResponse = openAIClient.GetEmbeddings(AOAI_DEPLOYMENTID,embeddingOptions);\n",
    "    return embeddingResponse.Data[0].Embedding.ToArray();\n",
    "}"
   ]
  },
  {
   "cell_type": "code",
   "execution_count": 15,
   "metadata": {
    "dotnet_interactive": {
     "language": "csharp"
    },
    "polyglot_notebook": {
     "kernelName": "csharp"
    }
   },
   "outputs": [],
   "source": [
    "var movieEmbeddings =\n",
    "    movies.Select(movie => {\n",
    "        var embeddingResponse = GenerateEmbedding(movie.Description);\n",
    "        var embedding = new ReadOnlyMemory<float>(embeddingResponse);\n",
    "        return new MovieEmbedding(Id: movie.Id, Name: movie.Name, DescriptionEmbedding: embedding);        \n",
    "    });"
   ]
  },
  {
   "cell_type": "code",
   "execution_count": 16,
   "metadata": {
    "dotnet_interactive": {
     "language": "csharp"
    },
    "polyglot_notebook": {
     "kernelName": "csharp"
    }
   },
   "outputs": [
    {
     "data": {
      "text/html": [
       "<table><thead><tr><th><i>index</i></th><th>value</th></tr></thead><tbody><tr><td>0</td><td><details class=\"dni-treeview\"><summary><span class=\"dni-code-hint\"><code>MovieEmbedding { Id = 1, Name = The Lion King, DescriptionEmbedding = System.ReadOnlyMemory&lt;Single&gt;[1536] }</code></span></summary><div><table><thead><tr></tr></thead><tbody><tr><td>Id</td><td><div class=\"dni-plaintext\"><pre>1</pre></div></td></tr><tr><td>Name</td><td><div class=\"dni-plaintext\"><pre>The Lion King</pre></div></td></tr><tr><td>DescriptionEmbedding</td><td><div class=\"dni-plaintext\"><pre>[ 0.010041435, -0.023260927, -0.025179984, -0.034249667, -0.00086708984, 0.0322206, -0.023334267, -0.00757233, -0.005338523, -0.01050592, 0.008446296, 0.012895574, 0.028504718, -0.026035614, 0.007517325, -0.0011084998, 0.02230751, -0.027795767, 0.026280079, -0.0037647742 ... (1516 more) ]</pre></div></td></tr></tbody></table></div></details></td></tr><tr><td>1</td><td><details class=\"dni-treeview\"><summary><span class=\"dni-code-hint\"><code>MovieEmbedding { Id = 2, Name = Inception, DescriptionEmbedding = System.ReadOnlyMemory&lt;Single&gt;[1536] }</code></span></summary><div><table><thead><tr></tr></thead><tbody><tr><td>Id</td><td><div class=\"dni-plaintext\"><pre>2</pre></div></td></tr><tr><td>Name</td><td><div class=\"dni-plaintext\"><pre>Inception</pre></div></td></tr><tr><td>DescriptionEmbedding</td><td><div class=\"dni-plaintext\"><pre>[ 0.009283638, -0.021505617, 0.00025231577, -0.04139008, -0.014058442, 0.02042907, -0.025672488, -0.024494618, -0.0046766484, 0.0053922357, 0.018883908, 0.020023782, 0.005699368, -0.018237978, 0.0049996125, 0.009435621, 0.03513344, 0.006674594, -0.010436177, -0.009739587 ... (1516 more) ]</pre></div></td></tr></tbody></table></div></details></td></tr><tr><td>2</td><td><details class=\"dni-treeview\"><summary><span class=\"dni-code-hint\"><code>MovieEmbedding { Id = 3, Name = Toy Story, DescriptionEmbedding = System.ReadOnlyMemory&lt;Single&gt;[1536] }</code></span></summary><div><table><thead><tr></tr></thead><tbody><tr><td>Id</td><td><div class=\"dni-plaintext\"><pre>3</pre></div></td></tr><tr><td>Name</td><td><div class=\"dni-plaintext\"><pre>Toy Story</pre></div></td></tr><tr><td>DescriptionEmbedding</td><td><div class=\"dni-plaintext\"><pre>[ -0.017549831, -0.041784104, -0.010693833, -0.02706817, -0.0026464537, -0.011907453, -0.004530424, -0.004346157, -0.00059569033, -0.02025665, 0.0076820226, -0.002994337, 0.004412874, -0.001655225, -0.0011572278, 0.012110782, 0.019354377, 0.0018315493, 0.017054217, -0.030168938 ... (1516 more) ]</pre></div></td></tr></tbody></table></div></details></td></tr><tr><td>3</td><td><details class=\"dni-treeview\"><summary><span class=\"dni-code-hint\"><code>MovieEmbedding { Id = 4, Name = Pulp Fiction, DescriptionEmbedding = System.ReadOnlyMemory&lt;Single&gt;[1536] }</code></span></summary><div><table><thead><tr></tr></thead><tbody><tr><td>Id</td><td><div class=\"dni-plaintext\"><pre>4</pre></div></td></tr><tr><td>Name</td><td><div class=\"dni-plaintext\"><pre>Pulp Fiction</pre></div></td></tr><tr><td>DescriptionEmbedding</td><td><div class=\"dni-plaintext\"><pre>[ -0.0013762183, -0.031044293, -0.011941586, -0.02680634, -0.013722292, 0.0070462376, 0.0045379302, -0.00040827808, -0.01810066, -0.017807068, 0.02081959, 0.021534426, 0.0082972, -0.012152207, 0.010014082, -0.01418183, 0.03849901, -0.004493253, 0.0006230878, -0.039111726 ... (1516 more) ]</pre></div></td></tr></tbody></table></div></details></td></tr><tr><td>4</td><td><details class=\"dni-treeview\"><summary><span class=\"dni-code-hint\"><code>MovieEmbedding { Id = 5, Name = Shrek, DescriptionEmbedding = System.ReadOnlyMemory&lt;Single&gt;[1536] }</code></span></summary><div><table><thead><tr></tr></thead><tbody><tr><td>Id</td><td><div class=\"dni-plaintext\"><pre>5</pre></div></td></tr><tr><td>Name</td><td><div class=\"dni-plaintext\"><pre>Shrek</pre></div></td></tr><tr><td>DescriptionEmbedding</td><td><div class=\"dni-plaintext\"><pre>[ 0.009915214, -0.06572093, -0.022210566, -0.014778709, 0.009235175, -0.005179227, -0.013163616, -0.03987944, -0.006053563, -0.017838886, 0.0307232, 0.009417328, 0.03290904, 0.0012530633, 0.01266573, -0.004769382, 0.025962925, -0.02027974, -0.0011020278, -0.027055845 ... (1516 more) ]</pre></div></td></tr></tbody></table></div></details></td></tr></tbody></table><style>\r\n",
       ".dni-code-hint {\r\n",
       "    font-style: italic;\r\n",
       "    overflow: hidden;\r\n",
       "    white-space: nowrap;\r\n",
       "}\r\n",
       ".dni-treeview {\r\n",
       "    white-space: nowrap;\r\n",
       "}\r\n",
       ".dni-treeview td {\r\n",
       "    vertical-align: top;\r\n",
       "    text-align: start;\r\n",
       "}\r\n",
       "details.dni-treeview {\r\n",
       "    padding-left: 1em;\r\n",
       "}\r\n",
       "table td {\r\n",
       "    text-align: start;\r\n",
       "}\r\n",
       "table tr { \r\n",
       "    vertical-align: top; \r\n",
       "    margin: 0em 0px;\r\n",
       "}\r\n",
       "table tr td pre \r\n",
       "{ \r\n",
       "    vertical-align: top !important; \r\n",
       "    margin: 0em 0px !important;\r\n",
       "} \r\n",
       "table th {\r\n",
       "    text-align: start;\r\n",
       "}\r\n",
       "</style>"
      ]
     },
     "metadata": {},
     "output_type": "display_data"
    }
   ],
   "source": [
    "movieEmbeddings"
   ]
  },
  {
   "cell_type": "code",
   "execution_count": 17,
   "metadata": {
    "dotnet_interactive": {
     "language": "csharp"
    },
    "polyglot_notebook": {
     "kernelName": "csharp"
    }
   },
   "outputs": [],
   "source": [
    "var movieIds = movieEmbeddings.Select(x => x.Id).ToArray();\n",
    "var movieNames = movieEmbeddings.Select(x => x.Name).ToArray();\n",
    "var movieDescriptions = movieEmbeddings.Select(x => x.DescriptionEmbedding).ToArray();"
   ]
  },
  {
   "cell_type": "code",
   "execution_count": 18,
   "metadata": {
    "dotnet_interactive": {
     "language": "csharp"
    },
    "polyglot_notebook": {
     "kernelName": "csharp"
    }
   },
   "outputs": [],
   "source": [
    "await collection.InsertAsync(new FieldData[]\n",
    "{\n",
    "    FieldData.Create(\"movie_id\", movieIds),\n",
    "    FieldData.Create(\"movie_name\", movieNames),\n",
    "    FieldData.CreateFloatVector(\"movie_description\", movieDescriptions)\n",
    "});"
   ]
  },
  {
   "cell_type": "markdown",
   "metadata": {},
   "source": [
    "## Persist data"
   ]
  },
  {
   "cell_type": "code",
   "execution_count": 19,
   "metadata": {
    "dotnet_interactive": {
     "language": "csharp"
    },
    "polyglot_notebook": {
     "kernelName": "csharp"
    }
   },
   "outputs": [],
   "source": [
    "await collection.FlushAsync();"
   ]
  },
  {
   "cell_type": "code",
   "execution_count": 20,
   "metadata": {
    "dotnet_interactive": {
     "language": "csharp"
    },
    "polyglot_notebook": {
     "kernelName": "csharp"
    }
   },
   "outputs": [
    {
     "data": {
      "text/html": [
       "<div class=\"dni-plaintext\"><pre>0</pre></div><style>\r\n",
       ".dni-code-hint {\r\n",
       "    font-style: italic;\r\n",
       "    overflow: hidden;\r\n",
       "    white-space: nowrap;\r\n",
       "}\r\n",
       ".dni-treeview {\r\n",
       "    white-space: nowrap;\r\n",
       "}\r\n",
       ".dni-treeview td {\r\n",
       "    vertical-align: top;\r\n",
       "    text-align: start;\r\n",
       "}\r\n",
       "details.dni-treeview {\r\n",
       "    padding-left: 1em;\r\n",
       "}\r\n",
       "table td {\r\n",
       "    text-align: start;\r\n",
       "}\r\n",
       "table tr { \r\n",
       "    vertical-align: top; \r\n",
       "    margin: 0em 0px;\r\n",
       "}\r\n",
       "table tr td pre \r\n",
       "{ \r\n",
       "    vertical-align: top !important; \r\n",
       "    margin: 0em 0px !important;\r\n",
       "} \r\n",
       "table th {\r\n",
       "    text-align: start;\r\n",
       "}\r\n",
       "</style>"
      ]
     },
     "metadata": {},
     "output_type": "display_data"
    }
   ],
   "source": [
    "await collection.GetEntityCountAsync()"
   ]
  },
  {
   "cell_type": "markdown",
   "metadata": {},
   "source": [
    "## Search for data"
   ]
  },
  {
   "cell_type": "markdown",
   "metadata": {},
   "source": [
    "### Create Index"
   ]
  },
  {
   "cell_type": "code",
   "execution_count": 21,
   "metadata": {
    "dotnet_interactive": {
     "language": "csharp"
    },
    "polyglot_notebook": {
     "kernelName": "csharp"
    }
   },
   "outputs": [],
   "source": [
    "await collection.CreateIndexAsync(\n",
    "    fieldName: \"movie_description\", \n",
    "    indexType: IndexType.Flat, \n",
    "    metricType: SimilarityMetricType.L2, \n",
    "    extraParams: new Dictionary<string,string> {[\"nlist\"] = \"1024\"}, \n",
    "    indexName: \"movie_idx\");"
   ]
  },
  {
   "cell_type": "markdown",
   "metadata": {},
   "source": [
    "### Load collection"
   ]
  },
  {
   "cell_type": "code",
   "execution_count": 22,
   "metadata": {
    "dotnet_interactive": {
     "language": "csharp"
    },
    "polyglot_notebook": {
     "kernelName": "csharp"
    }
   },
   "outputs": [],
   "source": [
    "await collection.LoadAsync();\n",
    "await collection.WaitForCollectionLoadAsync();"
   ]
  },
  {
   "cell_type": "markdown",
   "metadata": {},
   "source": [
    "### Define search parameters"
   ]
  },
  {
   "cell_type": "code",
   "execution_count": 23,
   "metadata": {
    "dotnet_interactive": {
     "language": "csharp"
    },
    "polyglot_notebook": {
     "kernelName": "csharp"
    }
   },
   "outputs": [],
   "source": [
    "var parameters = new SearchParameters\n",
    "{\n",
    "    OutputFields = { \"movie_name\" },\n",
    "    ConsistencyLevel = ConsistencyLevel.Strong,\n",
    "    ExtraParameters = { [\"nprobe\"] = \"1024\" }\n",
    "};"
   ]
  },
  {
   "cell_type": "markdown",
   "metadata": {},
   "source": [
    "### Search for data\n",
    "\n",
    "Search for data using embedding vectors for the query \"A movie that's fun for the whole family\"."
   ]
  },
  {
   "cell_type": "code",
   "execution_count": 24,
   "metadata": {
    "dotnet_interactive": {
     "language": "csharp"
    },
    "polyglot_notebook": {
     "kernelName": "csharp"
    }
   },
   "outputs": [],
   "source": [
    "var queryEmbedding = GenerateEmbedding(\"A movie that's fun for the whole family\");"
   ]
  },
  {
   "cell_type": "code",
   "execution_count": 25,
   "metadata": {
    "dotnet_interactive": {
     "language": "csharp"
    },
    "polyglot_notebook": {
     "kernelName": "csharp"
    }
   },
   "outputs": [],
   "source": [
    "var results = await collection.SearchAsync(\n",
    "    vectorFieldName: \"movie_description\",\n",
    "    vectors: new ReadOnlyMemory<float>[] { new ReadOnlyMemory<float>(queryEmbedding) },\n",
    "    SimilarityMetricType.L2,\n",
    "    limit: 3,\n",
    "    parameters);"
   ]
  },
  {
   "cell_type": "code",
   "execution_count": 26,
   "metadata": {
    "dotnet_interactive": {
     "language": "csharp"
    },
    "polyglot_notebook": {
     "kernelName": "csharp"
    }
   },
   "outputs": [
    {
     "data": {
      "text/html": [
       "<details open=\"open\" class=\"dni-treeview\"><summary><span class=\"dni-code-hint\"><code>Milvus.Client.SearchResults</code></span></summary><div><table><thead><tr></tr></thead><tbody><tr><td>CollectionName</td><td><div class=\"dni-plaintext\"><pre>movies</pre></div></td></tr><tr><td>FieldsData</td><td><table><thead><tr><th><i>index</i></th><th>value</th></tr></thead><tbody><tr><td>0</td><td><details class=\"dni-treeview\"><summary><span class=\"dni-code-hint\"><code>Field: {FieldName: movie_name, DataType: VarChar, Data: 3, RowCount: 3}</code></span></summary><div><table><thead><tr></tr></thead><tbody><tr><td>Data</td><td><div class=\"dni-plaintext\"><pre>[ Toy Story, The Lion King, Shrek ]</pre></div></td></tr><tr><td>RowCount</td><td><div class=\"dni-plaintext\"><pre>3</pre></div></td></tr><tr><td>FieldName</td><td><div class=\"dni-plaintext\"><pre>movie_name</pre></div></td></tr><tr><td>FieldId</td><td><div class=\"dni-plaintext\"><pre>0</pre></div></td></tr><tr><td>DataType</td><td><span>VarChar</span></td></tr><tr><td>IsDynamic</td><td><div class=\"dni-plaintext\"><pre>False</pre></div></td></tr></tbody></table></div></details></td></tr></tbody></table></td></tr><tr><td>Ids</td><td><details class=\"dni-treeview\"><summary><span class=\"dni-code-hint\"><code>Milvus.Client.MilvusIds</code></span></summary><div><table><thead><tr></tr></thead><tbody><tr><td>LongIds</td><td><div class=\"dni-plaintext\"><pre>[ 3, 1, 5 ]</pre></div></td></tr><tr><td>StringIds</td><td><div class=\"dni-plaintext\"><pre>&lt;null&gt;</pre></div></td></tr></tbody></table></div></details></td></tr><tr><td>NumQueries</td><td><div class=\"dni-plaintext\"><pre>1</pre></div></td></tr><tr><td>Scores</td><td><div class=\"dni-plaintext\"><pre>[ 0.36757344, 0.3882742, 0.392185 ]</pre></div></td></tr><tr><td>Limit</td><td><div class=\"dni-plaintext\"><pre>3</pre></div></td></tr><tr><td>Limits</td><td><div class=\"dni-plaintext\"><pre>[ 3 ]</pre></div></td></tr></tbody></table></div></details><style>\r\n",
       ".dni-code-hint {\r\n",
       "    font-style: italic;\r\n",
       "    overflow: hidden;\r\n",
       "    white-space: nowrap;\r\n",
       "}\r\n",
       ".dni-treeview {\r\n",
       "    white-space: nowrap;\r\n",
       "}\r\n",
       ".dni-treeview td {\r\n",
       "    vertical-align: top;\r\n",
       "    text-align: start;\r\n",
       "}\r\n",
       "details.dni-treeview {\r\n",
       "    padding-left: 1em;\r\n",
       "}\r\n",
       "table td {\r\n",
       "    text-align: start;\r\n",
       "}\r\n",
       "table tr { \r\n",
       "    vertical-align: top; \r\n",
       "    margin: 0em 0px;\r\n",
       "}\r\n",
       "table tr td pre \r\n",
       "{ \r\n",
       "    vertical-align: top !important; \r\n",
       "    margin: 0em 0px !important;\r\n",
       "} \r\n",
       "table th {\r\n",
       "    text-align: start;\r\n",
       "}\r\n",
       "</style>"
      ]
     },
     "metadata": {},
     "output_type": "display_data"
    }
   ],
   "source": [
    "results"
   ]
  },
  {
   "cell_type": "markdown",
   "metadata": {},
   "source": [
    "##"
   ]
  }
 ],
 "metadata": {
  "kernelspec": {
   "display_name": ".NET (C#)",
   "language": "C#",
   "name": ".net-csharp"
  },
  "language_info": {
   "name": "polyglot-notebook"
  },
  "polyglot_notebook": {
   "kernelInfo": {
    "defaultKernelName": "csharp",
    "items": [
     {
      "aliases": [],
      "languageName": "csharp",
      "name": "csharp"
     }
    ]
   }
  }
 },
 "nbformat": 4,
 "nbformat_minor": 2
}
