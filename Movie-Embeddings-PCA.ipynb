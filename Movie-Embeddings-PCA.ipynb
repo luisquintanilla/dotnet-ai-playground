{
 "cells": [
  {
   "cell_type": "markdown",
   "metadata": {},
   "source": [
    "# Movie Embeddings\n",
    "\n",
    "Using ML.NET to apply Principal Component Analysis (PCA) for dimensionality reduction on OpenAI Ada embedding vectors and plotting them in a 2-D scatterplot"
   ]
  },
  {
   "cell_type": "markdown",
   "metadata": {},
   "source": [
    "## Install packages"
   ]
  },
  {
   "cell_type": "code",
   "execution_count": 1,
   "metadata": {
    "dotnet_interactive": {
     "language": "csharp"
    },
    "polyglot_notebook": {
     "kernelName": "csharp"
    }
   },
   "outputs": [
    {
     "data": {
      "text/html": [
       "<div><div></div><div></div><div><strong>Installed Packages</strong><ul><li><span>Azure.AI.OpenAI, 1.0.0-beta.7</span></li><li><span>Microsoft.ML, 3.0.0-preview.23266.6</span></li><li><span>Plotly.NET, 4.2.0</span></li><li><span>Plotly.NET.CSharp, 0.11.1</span></li><li><span>Plotly.NET.Interactive, 4.2.0</span></li></ul></div></div>"
      ]
     },
     "metadata": {},
     "output_type": "display_data"
    },
    {
     "data": {
      "text/plain": [
       "Loading extensions from `/home/vscode/.nuget/packages/plotly.net.interactive/4.2.0/interactive-extensions/dotnet/Plotly.NET.Interactive.dll`"
      ]
     },
     "metadata": {},
     "output_type": "display_data"
    }
   ],
   "source": [
    "#r \"nuget: Microsoft.ML, 3.0.0-preview.23266.6\"\n",
    "#r \"nuget: Azure.AI.OpenAI, 1.0.0-beta.7\"\n",
    "#r \"nuget: Plotly.NET, 4.2.0\"\n",
    "#r \"nuget: Plotly.NET.Interactive, 4.2.0\"\n",
    "#r \"nuget: Plotly.NET.CSharp, 0.11.1\""
   ]
  },
  {
   "cell_type": "code",
   "execution_count": 2,
   "metadata": {
    "dotnet_interactive": {
     "language": "csharp"
    },
    "polyglot_notebook": {
     "kernelName": "csharp"
    }
   },
   "outputs": [],
   "source": [
    "using Microsoft.ML;\n",
    "using Microsoft.ML.Data;\n",
    "using Azure.AI.OpenAI;\n",
    "using Plotly.NET.CSharp;"
   ]
  },
  {
   "cell_type": "markdown",
   "metadata": {},
   "source": [
    "## Configure OpenAI Client"
   ]
  },
  {
   "cell_type": "code",
   "execution_count": 3,
   "metadata": {
    "dotnet_interactive": {
     "language": "csharp"
    },
    "polyglot_notebook": {
     "kernelName": "csharp"
    }
   },
   "outputs": [],
   "source": [
    "var AOAI_ENDPOINT = Environment.GetEnvironmentVariable(\"AOAI_ENDPOINT\");\n",
    "var AOAI_KEY = Environment.GetEnvironmentVariable(\"AOAI_KEY\");\n",
    "var AOAI_DEPLOYMENTID = Environment.GetEnvironmentVariable(\"AOAI_DEPLOYMENTID\");"
   ]
  },
  {
   "cell_type": "code",
   "execution_count": 4,
   "metadata": {
    "dotnet_interactive": {
     "language": "csharp"
    },
    "polyglot_notebook": {
     "kernelName": "csharp"
    }
   },
   "outputs": [],
   "source": [
    "var endpoint = new Uri(AOAI_ENDPOINT);\n",
    "var credentials = new Azure.AzureKeyCredential(AOAI_KEY);\n",
    "var openAIClient = new OpenAIClient(endpoint, credentials);"
   ]
  },
  {
   "cell_type": "markdown",
   "metadata": {},
   "source": [
    "## Define data types"
   ]
  },
  {
   "cell_type": "code",
   "execution_count": 5,
   "metadata": {
    "dotnet_interactive": {
     "language": "csharp"
    },
    "polyglot_notebook": {
     "kernelName": "csharp"
    }
   },
   "outputs": [],
   "source": [
    "public class MLEmbedding\n",
    "{\n",
    "    public string Title {get;set;}\n",
    "    \n",
    "    [VectorType(1536)]\n",
    "    public float[] Embedding {get;set;}\n",
    "}"
   ]
  },
  {
   "cell_type": "markdown",
   "metadata": {},
   "source": [
    "## Define movie titles"
   ]
  },
  {
   "cell_type": "code",
   "execution_count": 6,
   "metadata": {
    "dotnet_interactive": {
     "language": "csharp"
    },
    "polyglot_notebook": {
     "kernelName": "csharp"
    }
   },
   "outputs": [],
   "source": [
    "var movieTitles = new string[] {\n",
    "    \"The Lion King\",\n",
    "    \"Inception\",\n",
    "//    \"Frozen\",\n",
    "    \"Titanic\",\n",
    "    \"Shrek\",\n",
    "    \"The Shawshank Redemption\",\n",
    "    \"Toy Story\",\n",
    "    \"The Dark Knight\",\n",
    "    \"Jurassic Park\",\n",
    "    \"Pulp Fiction\"\n",
    "};"
   ]
  },
  {
   "cell_type": "markdown",
   "metadata": {},
   "source": [
    "## Generate embeddings"
   ]
  },
  {
   "cell_type": "code",
   "execution_count": 7,
   "metadata": {
    "dotnet_interactive": {
     "language": "csharp"
    },
    "polyglot_notebook": {
     "kernelName": "csharp"
    }
   },
   "outputs": [],
   "source": [
    "var movieEmbeddings = \n",
    "    movieTitles\n",
    "        .Select(title => {\n",
    "            var embeddingOptions = new EmbeddingsOptions(title);\n",
    "            Embeddings embeddingResponse = openAIClient.GetEmbeddings(AOAI_DEPLOYMENTID,embeddingOptions);\n",
    "            var embedding = embeddingResponse.Data[0].Embedding.ToArray();\n",
    "            return new MLEmbedding{Title = title, Embedding = embedding};\n",
    "        });"
   ]
  },
  {
   "cell_type": "code",
   "execution_count": 8,
   "metadata": {
    "dotnet_interactive": {
     "language": "csharp"
    },
    "polyglot_notebook": {
     "kernelName": "csharp"
    }
   },
   "outputs": [
    {
     "data": {
      "text/html": [
       "<table><thead><tr><th><i>index</i></th><th>value</th></tr></thead><tbody><tr><td>0</td><td><details class=\"dni-treeview\"><summary><span class=\"dni-code-hint\"><code>Submission#5+MLEmbedding</code></span></summary><div><table><thead><tr></tr></thead><tbody><tr><td>Title</td><td><div class=\"dni-plaintext\"><pre>The Lion King</pre></div></td></tr><tr><td>Embedding</td><td><div class=\"dni-plaintext\"><pre>[ -0.0072870334, -0.02391955, -0.009901325, -0.021671748, -0.010072354, 0.020792173, -0.01705398, -0.027462283, -0.012643889, -0.015136017, 0.022514673, 0.007372548, 0.024872422, -0.020877687, -0.0049628792, 0.0039244923, 0.0327153, 0.0015575805, 0.027291253, 0.004813229 ... (1516 more) ]</pre></div></td></tr></tbody></table></div></details></td></tr><tr><td>1</td><td><details class=\"dni-treeview\"><summary><span class=\"dni-code-hint\"><code>Submission#5+MLEmbedding</code></span></summary><div><table><thead><tr></tr></thead><tbody><tr><td>Title</td><td><div class=\"dni-plaintext\"><pre>Inception</pre></div></td></tr><tr><td>Embedding</td><td><div class=\"dni-plaintext\"><pre>[ 0.0097372085, -0.014701405, -0.0112139415, -0.028585332, -0.01925027, 0.013897113, -0.030589469, -0.026172455, -0.0014190482, -0.012117121, 0.028189778, 0.022230105, 0.012710452, -0.009631727, 0.013593854, 0.0075418865, 0.03425493, 0.0048719, 0.010963424, -0.013738891 ... (1516 more) ]</pre></div></td></tr></tbody></table></div></details></td></tr><tr><td>2</td><td><details class=\"dni-treeview\"><summary><span class=\"dni-code-hint\"><code>Submission#5+MLEmbedding</code></span></summary><div><table><thead><tr></tr></thead><tbody><tr><td>Title</td><td><div class=\"dni-plaintext\"><pre>Titanic</pre></div></td></tr><tr><td>Embedding</td><td><div class=\"dni-plaintext\"><pre>[ -0.015436796, -0.040282685, 0.003478291, -0.03432181, -0.010611962, 0.00022699941, -0.026422983, 0.015597179, 0.0073976335, -0.020208169, 0.0040496527, 0.026449714, 0.019780483, -0.013485478, -9.621894E-05, 0.0019780484, 0.017708879, 0.0055565783, 0.026422983, -0.033332787 ... (1516 more) ]</pre></div></td></tr></tbody></table></div></details></td></tr><tr><td>3</td><td><details class=\"dni-treeview\"><summary><span class=\"dni-code-hint\"><code>Submission#5+MLEmbedding</code></span></summary><div><table><thead><tr></tr></thead><tbody><tr><td>Title</td><td><div class=\"dni-plaintext\"><pre>Shrek</pre></div></td></tr><tr><td>Embedding</td><td><div class=\"dni-plaintext\"><pre>[ 0.007319695, -0.057858665, -0.01167532, -0.018146355, -0.0067955223, -0.0027862266, -0.0191947, -0.026558075, -0.00029991718, -0.031899642, 0.022127569, 0.006224549, 0.02840516, -0.0018985654, 0.0102775255, 0.011438194, 0.031050982, -0.00024395084, 0.012417897, -0.02085458 ... (1516 more) ]</pre></div></td></tr></tbody></table></div></details></td></tr><tr><td>4</td><td><details class=\"dni-treeview\"><summary><span class=\"dni-code-hint\"><code>Submission#5+MLEmbedding</code></span></summary><div><table><thead><tr></tr></thead><tbody><tr><td>Title</td><td><div class=\"dni-plaintext\"><pre>The Shawshank Redemption</pre></div></td></tr><tr><td>Embedding</td><td><div class=\"dni-plaintext\"><pre>[ -0.0013066616, -0.04665496, -0.0036220287, -0.029472824, -0.019280242, 0.011694777, -0.009211809, -0.02209841, -0.023091597, -0.009360787, 0.017927025, 0.0044693416, 0.0127872825, 0.009050416, -0.005490462, 0.012638304, 0.03344557, -0.017629068, 0.012092051, -0.029224526 ... (1516 more) ]</pre></div></td></tr></tbody></table></div></details></td></tr><tr><td>5</td><td><details class=\"dni-treeview\"><summary><span class=\"dni-code-hint\"><code>Submission#5+MLEmbedding</code></span></summary><div><table><thead><tr></tr></thead><tbody><tr><td>Title</td><td><div class=\"dni-plaintext\"><pre>Toy Story</pre></div></td></tr><tr><td>Embedding</td><td><div class=\"dni-plaintext\"><pre>[ -0.009728087, -0.028136225, -0.008030655, -0.03114531, -0.017012902, 0.0014498901, -0.015984153, -0.0046647238, 0.0014756088, -0.027441822, 0.012062057, -0.015971296, 0.011168333, -0.011116896, 0.006719003, 0.013990957, 0.02051064, -0.0061210436, 0.03659767, -0.025075704 ... (1516 more) ]</pre></div></td></tr></tbody></table></div></details></td></tr><tr><td>6</td><td><details class=\"dni-treeview\"><summary><span class=\"dni-code-hint\"><code>Submission#5+MLEmbedding</code></span></summary><div><table><thead><tr></tr></thead><tbody><tr><td>Title</td><td><div class=\"dni-plaintext\"><pre>The Dark Knight</pre></div></td></tr><tr><td>Embedding</td><td><div class=\"dni-plaintext\"><pre>[ -0.011200612, -0.02613683, -0.012652658, -0.031771265, -0.0158484, 0.0031259325, -0.01756107, -0.02554112, -0.015935276, -0.017871337, 0.030430915, 0.00040334614, 0.015711883, -0.003844199, -0.007886969, -0.007986254, 0.02653397, 0.004138952, 0.023121042, -0.012758149 ... (1516 more) ]</pre></div></td></tr></tbody></table></div></details></td></tr><tr><td>7</td><td><details class=\"dni-treeview\"><summary><span class=\"dni-code-hint\"><code>Submission#5+MLEmbedding</code></span></summary><div><table><thead><tr></tr></thead><tbody><tr><td>Title</td><td><div class=\"dni-plaintext\"><pre>Jurassic Park</pre></div></td></tr><tr><td>Embedding</td><td><div class=\"dni-plaintext\"><pre>[ -0.00052101345, -0.04108107, -0.005039389, -0.017897967, -0.026068226, 0.007334082, -0.019366061, -0.02364268, -0.0054606674, -0.007959617, 0.004267044, -0.001073144, 0.018242652, -0.007021314, 0.014412843, 0.013353263, 0.037021473, 0.0029425689, 0.02184267, -0.0045415135 ... (1516 more) ]</pre></div></td></tr></tbody></table></div></details></td></tr><tr><td>8</td><td><details class=\"dni-treeview\"><summary><span class=\"dni-code-hint\"><code>Submission#5+MLEmbedding</code></span></summary><div><table><thead><tr></tr></thead><tbody><tr><td>Title</td><td><div class=\"dni-plaintext\"><pre>Pulp Fiction</pre></div></td></tr><tr><td>Embedding</td><td><div class=\"dni-plaintext\"><pre>[ -0.0002570929, -0.028310657, -0.0059965346, -0.026362676, -0.015661767, 0.008084121, -0.011129465, -0.012135922, -0.014428046, -0.030492395, 0.016986394, 0.013895597, 0.010025609, -0.009162004, -0.008304892, -0.00028976216, 0.04095955, 0.0033862402, 0.023193961, -0.022466714 ... (1516 more) ]</pre></div></td></tr></tbody></table></div></details></td></tr></tbody></table><style>\r\n",
       ".dni-code-hint {\r\n",
       "    font-style: italic;\r\n",
       "    overflow: hidden;\r\n",
       "    white-space: nowrap;\r\n",
       "}\r\n",
       ".dni-treeview {\r\n",
       "    white-space: nowrap;\r\n",
       "}\r\n",
       ".dni-treeview td {\r\n",
       "    vertical-align: top;\r\n",
       "    text-align: start;\r\n",
       "}\r\n",
       "details.dni-treeview {\r\n",
       "    padding-left: 1em;\r\n",
       "}\r\n",
       "table td {\r\n",
       "    text-align: start;\r\n",
       "}\r\n",
       "table tr { \r\n",
       "    vertical-align: top; \r\n",
       "    margin: 0em 0px;\r\n",
       "}\r\n",
       "table tr td pre \r\n",
       "{ \r\n",
       "    vertical-align: top !important; \r\n",
       "    margin: 0em 0px !important;\r\n",
       "} \r\n",
       "table th {\r\n",
       "    text-align: start;\r\n",
       "}\r\n",
       "</style>"
      ]
     },
     "metadata": {},
     "output_type": "display_data"
    }
   ],
   "source": [
    "movieEmbeddings"
   ]
  },
  {
   "cell_type": "markdown",
   "metadata": {},
   "source": [
    "## Initialize MLContext"
   ]
  },
  {
   "cell_type": "code",
   "execution_count": 9,
   "metadata": {
    "dotnet_interactive": {
     "language": "csharp"
    },
    "polyglot_notebook": {
     "kernelName": "csharp"
    }
   },
   "outputs": [],
   "source": [
    "var ctx = new MLContext();"
   ]
  },
  {
   "cell_type": "markdown",
   "metadata": {},
   "source": [
    "## Load movie title embedding data into IDataView"
   ]
  },
  {
   "cell_type": "code",
   "execution_count": 10,
   "metadata": {
    "dotnet_interactive": {
     "language": "csharp"
    },
    "polyglot_notebook": {
     "kernelName": "csharp"
    }
   },
   "outputs": [],
   "source": [
    "var dv = ctx.Data.LoadFromEnumerable(movieEmbeddings);"
   ]
  },
  {
   "cell_type": "markdown",
   "metadata": {},
   "source": [
    "## Inspect IDataView Schema"
   ]
  },
  {
   "cell_type": "code",
   "execution_count": 11,
   "metadata": {
    "dotnet_interactive": {
     "language": "csharp"
    },
    "polyglot_notebook": {
     "kernelName": "csharp"
    }
   },
   "outputs": [
    {
     "data": {
      "text/html": [
       "<details open=\"open\" class=\"dni-treeview\"><summary><span class=\"dni-code-hint\"><code>[ Title: String, Embedding: Vector&lt;Single, 1536&gt; ]</code></span></summary><div><table><thead><tr></tr></thead><tbody><tr><td>Count</td><td><div class=\"dni-plaintext\"><pre>2</pre></div></td></tr><tr><td><i>(values)</i></td><td><table><thead><tr><th><i>index</i></th><th>value</th></tr></thead><tbody><tr><td>0</td><td><details class=\"dni-treeview\"><summary><span class=\"dni-code-hint\"><code>Title: String</code></span></summary><div><table><thead><tr></tr></thead><tbody><tr><td>Name</td><td><div class=\"dni-plaintext\"><pre>Title</pre></div></td></tr><tr><td>Index</td><td><div class=\"dni-plaintext\"><pre>0</pre></div></td></tr><tr><td>IsHidden</td><td><div class=\"dni-plaintext\"><pre>False</pre></div></td></tr><tr><td>Type</td><td><details class=\"dni-treeview\"><summary><span class=\"dni-code-hint\"><code>String</code></span></summary><div><table><thead><tr></tr></thead><tbody><tr><td>RawType</td><td><span><a href=\"https://docs.microsoft.com/dotnet/api/system.readonlymemory-1?view=net-7.0\">System.ReadOnlyMemory&lt;System.Char&gt;</a></span></td></tr></tbody></table></div></details></td></tr><tr><td>Annotations</td><td><details class=\"dni-treeview\"><summary><span class=\"dni-code-hint\"><code></code></span></summary><div><table><thead><tr></tr></thead><tbody><tr><td>Schema</td><td><details class=\"dni-treeview\"><summary><span class=\"dni-code-hint\"><code>[  ]</code></span></summary><div><table><thead><tr></tr></thead><tbody><tr><td>Count</td><td><div class=\"dni-plaintext\"><pre>0</pre></div></td></tr><tr><td><i>(values)</i></td><td><i>(empty)</i></td></tr></tbody></table></div></details></td></tr></tbody></table></div></details></td></tr></tbody></table></div></details></td></tr><tr><td>1</td><td><details class=\"dni-treeview\"><summary><span class=\"dni-code-hint\"><code>Embedding: Vector&lt;Single, 1536&gt;</code></span></summary><div><table><thead><tr></tr></thead><tbody><tr><td>Name</td><td><div class=\"dni-plaintext\"><pre>Embedding</pre></div></td></tr><tr><td>Index</td><td><div class=\"dni-plaintext\"><pre>1</pre></div></td></tr><tr><td>IsHidden</td><td><div class=\"dni-plaintext\"><pre>False</pre></div></td></tr><tr><td>Type</td><td><details class=\"dni-treeview\"><summary><span class=\"dni-code-hint\"><code>Vector&lt;Single, 1536&gt;</code></span></summary><div><table><thead><tr></tr></thead><tbody><tr><td>Dimensions</td><td><div class=\"dni-plaintext\"><pre>[ 1536 ]</pre></div></td></tr><tr><td>IsKnownSize</td><td><div class=\"dni-plaintext\"><pre>True</pre></div></td></tr><tr><td>ItemType</td><td><details class=\"dni-treeview\"><summary><span class=\"dni-code-hint\"><code>Single</code></span></summary><div><table><thead><tr></tr></thead><tbody><tr><td>RawType</td><td><span><a href=\"https://docs.microsoft.com/dotnet/api/system.single?view=net-7.0\">System.Single</a></span></td></tr></tbody></table></div></details></td></tr><tr><td>Size</td><td><div class=\"dni-plaintext\"><pre>1536</pre></div></td></tr><tr><td>RawType</td><td><span><a href=\"https://docs.microsoft.com/dotnet/api/microsoft.ml.data.vbuffer-1?view=net-7.0\">Microsoft.ML.Data.VBuffer&lt;System.Single&gt;</a></span></td></tr></tbody></table></div></details></td></tr><tr><td>Annotations</td><td><details class=\"dni-treeview\"><summary><span class=\"dni-code-hint\"><code></code></span></summary><div><table><thead><tr></tr></thead><tbody><tr><td>Schema</td><td><details class=\"dni-treeview\"><summary><span class=\"dni-code-hint\"><code>[  ]</code></span></summary><div><table><thead><tr></tr></thead><tbody><tr><td>Count</td><td><div class=\"dni-plaintext\"><pre>0</pre></div></td></tr><tr><td><i>(values)</i></td><td><i>(empty)</i></td></tr></tbody></table></div></details></td></tr></tbody></table></div></details></td></tr></tbody></table></div></details></td></tr></tbody></table></td></tr></tbody></table></div></details><style>\r\n",
       ".dni-code-hint {\r\n",
       "    font-style: italic;\r\n",
       "    overflow: hidden;\r\n",
       "    white-space: nowrap;\r\n",
       "}\r\n",
       ".dni-treeview {\r\n",
       "    white-space: nowrap;\r\n",
       "}\r\n",
       ".dni-treeview td {\r\n",
       "    vertical-align: top;\r\n",
       "    text-align: start;\r\n",
       "}\r\n",
       "details.dni-treeview {\r\n",
       "    padding-left: 1em;\r\n",
       "}\r\n",
       "table td {\r\n",
       "    text-align: start;\r\n",
       "}\r\n",
       "table tr { \r\n",
       "    vertical-align: top; \r\n",
       "    margin: 0em 0px;\r\n",
       "}\r\n",
       "table tr td pre \r\n",
       "{ \r\n",
       "    vertical-align: top !important; \r\n",
       "    margin: 0em 0px !important;\r\n",
       "} \r\n",
       "table th {\r\n",
       "    text-align: start;\r\n",
       "}\r\n",
       "</style>"
      ]
     },
     "metadata": {},
     "output_type": "display_data"
    }
   ],
   "source": [
    "dv.Schema"
   ]
  },
  {
   "cell_type": "markdown",
   "metadata": {},
   "source": [
    "## Define Principal Component Analysis pipeline"
   ]
  },
  {
   "cell_type": "code",
   "execution_count": 12,
   "metadata": {
    "dotnet_interactive": {
     "language": "csharp"
    },
    "polyglot_notebook": {
     "kernelName": "csharp"
    }
   },
   "outputs": [],
   "source": [
    "var pipeline = \n",
    "    ctx.Transforms.ProjectToPrincipalComponents(\n",
    "        outputColumnName:\"PCA\",\n",
    "        inputColumnName:\"Embedding\",\n",
    "        rank:2);\n"
   ]
  },
  {
   "cell_type": "markdown",
   "metadata": {},
   "source": [
    "## Run PCA on movie embedding data"
   ]
  },
  {
   "cell_type": "code",
   "execution_count": 13,
   "metadata": {
    "dotnet_interactive": {
     "language": "csharp"
    },
    "polyglot_notebook": {
     "kernelName": "csharp"
    }
   },
   "outputs": [],
   "source": [
    "var transformedDv = \n",
    "    pipeline\n",
    "        .Fit(dv)\n",
    "        .Transform(dv);"
   ]
  },
  {
   "cell_type": "markdown",
   "metadata": {},
   "source": [
    "## Get the titles and computed principal components"
   ]
  },
  {
   "cell_type": "code",
   "execution_count": 14,
   "metadata": {
    "dotnet_interactive": {
     "language": "csharp"
    },
    "polyglot_notebook": {
     "kernelName": "csharp"
    }
   },
   "outputs": [],
   "source": [
    "var titles = transformedDv.GetColumn<string>(\"Title\");\n",
    "var pc = transformedDv.GetColumn<float[]>(\"PCA\");"
   ]
  },
  {
   "cell_type": "markdown",
   "metadata": {},
   "source": [
    "## Plot movies"
   ]
  },
  {
   "cell_type": "code",
   "execution_count": 15,
   "metadata": {
    "dotnet_interactive": {
     "language": "csharp"
    },
    "polyglot_notebook": {
     "kernelName": "csharp"
    }
   },
   "outputs": [],
   "source": [
    "var x = pc.Select(x => x[0]);\n",
    "var y = pc.Select(x => x[1]);"
   ]
  },
  {
   "cell_type": "code",
   "execution_count": 16,
   "metadata": {
    "dotnet_interactive": {
     "language": "csharp"
    },
    "polyglot_notebook": {
     "kernelName": "csharp"
    }
   },
   "outputs": [
    {
     "data": {
      "text/html": [
       "<div><div id=\"f836943d-4402-4dbd-9061-fcc704c9bc77\"><!-- Plotly chart will be drawn inside this DIV --></div><script type=\"text/javascript\">\n",
       "var renderPlotly_f836943d44024dbd9061fcc704c9bc77 = function() {\n",
       "    var fsharpPlotlyRequire = requirejs.config({context:'fsharp-plotly',paths:{plotly:'https://cdn.plot.ly/plotly-2.21.0.min'}}) || require;\n",
       "    fsharpPlotlyRequire(['plotly'], function(Plotly) {\n",
       "        var data = [{\"type\":\"scatter\",\"mode\":\"markers+text\",\"x\":[0.10923624,0.101595044,0.099424124,0.096877575,0.11084068,0.09288883,0.10176659,0.10078454,0.11122131],\"y\":[0.25684988,-0.17358473,-0.040852394,0.13925005,-0.098962635,0.11328545,-0.11363272,0.14826973,-0.23194014],\"text\":[\"The Lion King\",\"Inception\",\"Titanic\",\"Shrek\",\"The Shawshank Redemption\",\"Toy Story\",\"The Dark Knight\",\"Jurassic Park\",\"Pulp Fiction\"],\"textposition\":\"bottom center\",\"marker\":{},\"line\":{}}];\n",
       "        var layout = {\"width\":600,\"height\":600,\"template\":{\"layout\":{\"title\":{\"x\":0.05},\"font\":{\"color\":\"rgba(42, 63, 95, 1.0)\"},\"paper_bgcolor\":\"rgba(255, 255, 255, 1.0)\",\"plot_bgcolor\":\"rgba(229, 236, 246, 1.0)\",\"autotypenumbers\":\"strict\",\"colorscale\":{\"diverging\":[[0.0,\"#8e0152\"],[0.1,\"#c51b7d\"],[0.2,\"#de77ae\"],[0.3,\"#f1b6da\"],[0.4,\"#fde0ef\"],[0.5,\"#f7f7f7\"],[0.6,\"#e6f5d0\"],[0.7,\"#b8e186\"],[0.8,\"#7fbc41\"],[0.9,\"#4d9221\"],[1.0,\"#276419\"]],\"sequential\":[[0.0,\"#0d0887\"],[0.1111111111111111,\"#46039f\"],[0.2222222222222222,\"#7201a8\"],[0.3333333333333333,\"#9c179e\"],[0.4444444444444444,\"#bd3786\"],[0.5555555555555556,\"#d8576b\"],[0.6666666666666666,\"#ed7953\"],[0.7777777777777778,\"#fb9f3a\"],[0.8888888888888888,\"#fdca26\"],[1.0,\"#f0f921\"]],\"sequentialminus\":[[0.0,\"#0d0887\"],[0.1111111111111111,\"#46039f\"],[0.2222222222222222,\"#7201a8\"],[0.3333333333333333,\"#9c179e\"],[0.4444444444444444,\"#bd3786\"],[0.5555555555555556,\"#d8576b\"],[0.6666666666666666,\"#ed7953\"],[0.7777777777777778,\"#fb9f3a\"],[0.8888888888888888,\"#fdca26\"],[1.0,\"#f0f921\"]]},\"hovermode\":\"closest\",\"hoverlabel\":{\"align\":\"left\"},\"coloraxis\":{\"colorbar\":{\"outlinewidth\":0.0,\"ticks\":\"\"}},\"geo\":{\"showland\":true,\"landcolor\":\"rgba(229, 236, 246, 1.0)\",\"showlakes\":true,\"lakecolor\":\"rgba(255, 255, 255, 1.0)\",\"subunitcolor\":\"rgba(255, 255, 255, 1.0)\",\"bgcolor\":\"rgba(255, 255, 255, 1.0)\"},\"mapbox\":{\"style\":\"light\"},\"polar\":{\"bgcolor\":\"rgba(229, 236, 246, 1.0)\",\"radialaxis\":{\"linecolor\":\"rgba(255, 255, 255, 1.0)\",\"gridcolor\":\"rgba(255, 255, 255, 1.0)\",\"ticks\":\"\"},\"angularaxis\":{\"linecolor\":\"rgba(255, 255, 255, 1.0)\",\"gridcolor\":\"rgba(255, 255, 255, 1.0)\",\"ticks\":\"\"}},\"scene\":{\"xaxis\":{\"ticks\":\"\",\"linecolor\":\"rgba(255, 255, 255, 1.0)\",\"gridcolor\":\"rgba(255, 255, 255, 1.0)\",\"gridwidth\":2.0,\"zerolinecolor\":\"rgba(255, 255, 255, 1.0)\",\"backgroundcolor\":\"rgba(229, 236, 246, 1.0)\",\"showbackground\":true},\"yaxis\":{\"ticks\":\"\",\"linecolor\":\"rgba(255, 255, 255, 1.0)\",\"gridcolor\":\"rgba(255, 255, 255, 1.0)\",\"gridwidth\":2.0,\"zerolinecolor\":\"rgba(255, 255, 255, 1.0)\",\"backgroundcolor\":\"rgba(229, 236, 246, 1.0)\",\"showbackground\":true},\"zaxis\":{\"ticks\":\"\",\"linecolor\":\"rgba(255, 255, 255, 1.0)\",\"gridcolor\":\"rgba(255, 255, 255, 1.0)\",\"gridwidth\":2.0,\"zerolinecolor\":\"rgba(255, 255, 255, 1.0)\",\"backgroundcolor\":\"rgba(229, 236, 246, 1.0)\",\"showbackground\":true}},\"ternary\":{\"aaxis\":{\"ticks\":\"\",\"linecolor\":\"rgba(255, 255, 255, 1.0)\",\"gridcolor\":\"rgba(255, 255, 255, 1.0)\"},\"baxis\":{\"ticks\":\"\",\"linecolor\":\"rgba(255, 255, 255, 1.0)\",\"gridcolor\":\"rgba(255, 255, 255, 1.0)\"},\"caxis\":{\"ticks\":\"\",\"linecolor\":\"rgba(255, 255, 255, 1.0)\",\"gridcolor\":\"rgba(255, 255, 255, 1.0)\"},\"bgcolor\":\"rgba(229, 236, 246, 1.0)\"},\"xaxis\":{\"title\":{\"standoff\":15},\"ticks\":\"\",\"automargin\":\"height+width+left+right+top+bottom\",\"linecolor\":\"rgba(255, 255, 255, 1.0)\",\"gridcolor\":\"rgba(255, 255, 255, 1.0)\",\"zerolinecolor\":\"rgba(255, 255, 255, 1.0)\",\"zerolinewidth\":2.0},\"yaxis\":{\"title\":{\"standoff\":15},\"ticks\":\"\",\"automargin\":\"height+width+left+right+top+bottom\",\"linecolor\":\"rgba(255, 255, 255, 1.0)\",\"gridcolor\":\"rgba(255, 255, 255, 1.0)\",\"zerolinecolor\":\"rgba(255, 255, 255, 1.0)\",\"zerolinewidth\":2.0},\"annotationdefaults\":{\"arrowcolor\":\"#2a3f5f\",\"arrowhead\":0,\"arrowwidth\":1},\"shapedefaults\":{\"line\":{\"color\":\"rgba(42, 63, 95, 1.0)\"}},\"colorway\":[\"rgba(99, 110, 250, 1.0)\",\"rgba(239, 85, 59, 1.0)\",\"rgba(0, 204, 150, 1.0)\",\"rgba(171, 99, 250, 1.0)\",\"rgba(255, 161, 90, 1.0)\",\"rgba(25, 211, 243, 1.0)\",\"rgba(255, 102, 146, 1.0)\",\"rgba(182, 232, 128, 1.0)\",\"rgba(255, 151, 255, 1.0)\",\"rgba(254, 203, 82, 1.0)\"]},\"data\":{\"bar\":[{\"marker\":{\"line\":{\"color\":\"rgba(229, 236, 246, 1.0)\",\"width\":0.5},\"pattern\":{\"fillmode\":\"overlay\",\"size\":10,\"solidity\":0.2}},\"error_x\":{\"color\":\"rgba(42, 63, 95, 1.0)\"},\"error_y\":{\"color\":\"rgba(42, 63, 95, 1.0)\"}}],\"barpolar\":[{\"marker\":{\"line\":{\"color\":\"rgba(229, 236, 246, 1.0)\",\"width\":0.5},\"pattern\":{\"fillmode\":\"overlay\",\"size\":10,\"solidity\":0.2}}}],\"carpet\":[{\"aaxis\":{\"linecolor\":\"rgba(255, 255, 255, 1.0)\",\"gridcolor\":\"rgba(255, 255, 255, 1.0)\",\"endlinecolor\":\"rgba(42, 63, 95, 1.0)\",\"minorgridcolor\":\"rgba(255, 255, 255, 1.0)\",\"startlinecolor\":\"rgba(42, 63, 95, 1.0)\"},\"baxis\":{\"linecolor\":\"rgba(255, 255, 255, 1.0)\",\"gridcolor\":\"rgba(255, 255, 255, 1.0)\",\"endlinecolor\":\"rgba(42, 63, 95, 1.0)\",\"minorgridcolor\":\"rgba(255, 255, 255, 1.0)\",\"startlinecolor\":\"rgba(42, 63, 95, 1.0)\"}}],\"choropleth\":[{\"colorbar\":{\"outlinewidth\":0.0,\"ticks\":\"\"},\"colorscale\":[[0.0,\"#0d0887\"],[0.1111111111111111,\"#46039f\"],[0.2222222222222222,\"#7201a8\"],[0.3333333333333333,\"#9c179e\"],[0.4444444444444444,\"#bd3786\"],[0.5555555555555556,\"#d8576b\"],[0.6666666666666666,\"#ed7953\"],[0.7777777777777778,\"#fb9f3a\"],[0.8888888888888888,\"#fdca26\"],[1.0,\"#f0f921\"]]}],\"contour\":[{\"colorbar\":{\"outlinewidth\":0.0,\"ticks\":\"\"},\"colorscale\":[[0.0,\"#0d0887\"],[0.1111111111111111,\"#46039f\"],[0.2222222222222222,\"#7201a8\"],[0.3333333333333333,\"#9c179e\"],[0.4444444444444444,\"#bd3786\"],[0.5555555555555556,\"#d8576b\"],[0.6666666666666666,\"#ed7953\"],[0.7777777777777778,\"#fb9f3a\"],[0.8888888888888888,\"#fdca26\"],[1.0,\"#f0f921\"]]}],\"contourcarpet\":[{\"colorbar\":{\"outlinewidth\":0.0,\"ticks\":\"\"}}],\"heatmap\":[{\"colorbar\":{\"outlinewidth\":0.0,\"ticks\":\"\"},\"colorscale\":[[0.0,\"#0d0887\"],[0.1111111111111111,\"#46039f\"],[0.2222222222222222,\"#7201a8\"],[0.3333333333333333,\"#9c179e\"],[0.4444444444444444,\"#bd3786\"],[0.5555555555555556,\"#d8576b\"],[0.6666666666666666,\"#ed7953\"],[0.7777777777777778,\"#fb9f3a\"],[0.8888888888888888,\"#fdca26\"],[1.0,\"#f0f921\"]]}],\"heatmapgl\":[{\"colorbar\":{\"outlinewidth\":0.0,\"ticks\":\"\"},\"colorscale\":[[0.0,\"#0d0887\"],[0.1111111111111111,\"#46039f\"],[0.2222222222222222,\"#7201a8\"],[0.3333333333333333,\"#9c179e\"],[0.4444444444444444,\"#bd3786\"],[0.5555555555555556,\"#d8576b\"],[0.6666666666666666,\"#ed7953\"],[0.7777777777777778,\"#fb9f3a\"],[0.8888888888888888,\"#fdca26\"],[1.0,\"#f0f921\"]]}],\"histogram\":[{\"marker\":{\"pattern\":{\"fillmode\":\"overlay\",\"size\":10,\"solidity\":0.2}}}],\"histogram2d\":[{\"colorbar\":{\"outlinewidth\":0.0,\"ticks\":\"\"},\"colorscale\":[[0.0,\"#0d0887\"],[0.1111111111111111,\"#46039f\"],[0.2222222222222222,\"#7201a8\"],[0.3333333333333333,\"#9c179e\"],[0.4444444444444444,\"#bd3786\"],[0.5555555555555556,\"#d8576b\"],[0.6666666666666666,\"#ed7953\"],[0.7777777777777778,\"#fb9f3a\"],[0.8888888888888888,\"#fdca26\"],[1.0,\"#f0f921\"]]}],\"histogram2dcontour\":[{\"colorbar\":{\"outlinewidth\":0.0,\"ticks\":\"\"},\"colorscale\":[[0.0,\"#0d0887\"],[0.1111111111111111,\"#46039f\"],[0.2222222222222222,\"#7201a8\"],[0.3333333333333333,\"#9c179e\"],[0.4444444444444444,\"#bd3786\"],[0.5555555555555556,\"#d8576b\"],[0.6666666666666666,\"#ed7953\"],[0.7777777777777778,\"#fb9f3a\"],[0.8888888888888888,\"#fdca26\"],[1.0,\"#f0f921\"]]}],\"mesh3d\":[{\"colorbar\":{\"outlinewidth\":0.0,\"ticks\":\"\"}}],\"parcoords\":[{\"line\":{\"colorbar\":{\"outlinewidth\":0.0,\"ticks\":\"\"}}}],\"pie\":[{\"automargin\":true}],\"scatter\":[{\"marker\":{\"colorbar\":{\"outlinewidth\":0.0,\"ticks\":\"\"}}}],\"scatter3d\":[{\"marker\":{\"colorbar\":{\"outlinewidth\":0.0,\"ticks\":\"\"}},\"line\":{\"colorbar\":{\"outlinewidth\":0.0,\"ticks\":\"\"}}}],\"scattercarpet\":[{\"marker\":{\"colorbar\":{\"outlinewidth\":0.0,\"ticks\":\"\"}}}],\"scattergeo\":[{\"marker\":{\"colorbar\":{\"outlinewidth\":0.0,\"ticks\":\"\"}}}],\"scattergl\":[{\"marker\":{\"colorbar\":{\"outlinewidth\":0.0,\"ticks\":\"\"}}}],\"scattermapbox\":[{\"marker\":{\"colorbar\":{\"outlinewidth\":0.0,\"ticks\":\"\"}}}],\"scatterpolar\":[{\"marker\":{\"colorbar\":{\"outlinewidth\":0.0,\"ticks\":\"\"}}}],\"scatterpolargl\":[{\"marker\":{\"colorbar\":{\"outlinewidth\":0.0,\"ticks\":\"\"}}}],\"scatterternary\":[{\"marker\":{\"colorbar\":{\"outlinewidth\":0.0,\"ticks\":\"\"}}}],\"surface\":[{\"colorbar\":{\"outlinewidth\":0.0,\"ticks\":\"\"},\"colorscale\":[[0.0,\"#0d0887\"],[0.1111111111111111,\"#46039f\"],[0.2222222222222222,\"#7201a8\"],[0.3333333333333333,\"#9c179e\"],[0.4444444444444444,\"#bd3786\"],[0.5555555555555556,\"#d8576b\"],[0.6666666666666666,\"#ed7953\"],[0.7777777777777778,\"#fb9f3a\"],[0.8888888888888888,\"#fdca26\"],[1.0,\"#f0f921\"]]}],\"table\":[{\"cells\":{\"fill\":{\"color\":\"rgba(235, 240, 248, 1.0)\"},\"line\":{\"color\":\"rgba(255, 255, 255, 1.0)\"}},\"header\":{\"fill\":{\"color\":\"rgba(200, 212, 227, 1.0)\"},\"line\":{\"color\":\"rgba(255, 255, 255, 1.0)\"}}}]}},\"xaxis\":{\"title\":{\"text\":\"Component 1\"}},\"yaxis\":{\"title\":{\"text\":\"Component 2\"}}};\n",
       "        var config = {\"responsive\":true};\n",
       "        Plotly.newPlot('f836943d-4402-4dbd-9061-fcc704c9bc77', data, layout, config);\n",
       "    });\n",
       "};\n",
       "if ((typeof(requirejs) !==  typeof(Function)) || (typeof(requirejs.config) !== typeof(Function))) {\n",
       "    var script = document.createElement(\"script\");\n",
       "    script.setAttribute(\"charset\", \"utf-8\");\n",
       "    script.setAttribute(\"src\", \"https://cdnjs.cloudflare.com/ajax/libs/require.js/2.3.6/require.min.js\");\n",
       "    script.onload = function(){\n",
       "        renderPlotly_f836943d44024dbd9061fcc704c9bc77();\n",
       "    };\n",
       "    document.getElementsByTagName(\"head\")[0].appendChild(script);\n",
       "}\n",
       "else {\n",
       "    renderPlotly_f836943d44024dbd9061fcc704c9bc77();\n",
       "}\n",
       "</script></div>"
      ]
     },
     "metadata": {},
     "output_type": "display_data"
    }
   ],
   "source": [
    "Chart.Point<float, float, string>(\n",
    "    x: x, \n",
    "    y: y,\n",
    "    MultiText: titles.ToList(),\n",
    "    TextPosition: Plotly.NET.StyleParam.TextPosition.BottomCenter\n",
    ")\n",
    ".WithXAxisStyle<int,int,string>(Title: Plotly.NET.Title.init(\"Component 1\"))\n",
    ".WithYAxisStyle<int,int,string>(Title: Plotly.NET.Title.init(\"Component 2\"))"
   ]
  }
 ],
 "metadata": {
  "kernelspec": {
   "display_name": ".NET (C#)",
   "language": "C#",
   "name": ".net-csharp"
  },
  "language_info": {
   "name": "polyglot-notebook"
  },
  "polyglot_notebook": {
   "kernelInfo": {
    "defaultKernelName": "csharp",
    "items": [
     {
      "aliases": [],
      "languageName": "csharp",
      "name": "csharp"
     }
    ]
   }
  }
 },
 "nbformat": 4,
 "nbformat_minor": 2
}
